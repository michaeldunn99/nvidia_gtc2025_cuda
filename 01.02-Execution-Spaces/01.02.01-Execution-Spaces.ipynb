{
 "cells": [
  {
   "cell_type": "code",
   "execution_count": 4,
   "metadata": {},
   "outputs": [
    {
     "name": "stdout",
     "output_type": "stream",
     "text": [
      "2025-03-17 11:36:43 URL:https://raw.githubusercontent.com/NVIDIA/accelerated-computing-hub/refs/heads/main/gpu-cpp-tutorial/notebooks/01.02-Execution-Spaces/Sources/ach.h [2893/2893] -> \"Sources/ach.h\" [1]\n"
     ]
    }
   ],
   "source": [
    "%mkdir -p Sources\n",
    "!wget https://raw.githubusercontent.com/NVIDIA/accelerated-computing-hub/refs/heads/main/gpu-cpp-tutorial/notebooks/01.02-Execution-Spaces/Sources/ach.h -nv -O Sources/ach.h"
   ]
  },
  {
   "cell_type": "code",
   "execution_count": null,
   "metadata": {},
   "outputs": [
    {
     "name": "stdout",
     "output_type": "stream",
     "text": [
      "Overwriting Sources/cpu-cooling.cpp\n"
     ]
    }
   ],
   "source": [
    "%%writefile Sources/cpu-cooling.cpp\n",
    "\n",
    "#include <cstdio>\n",
    "#include <vector>\n",
    "\n",
    "int main() {\n",
    "    float k = 0.5;\n",
    "    float ambient_temp = 20;\n",
    "    std::vector<float> temp{42,24,50};\n",
    "\n",
    "    std::printf(\"step temp[0] temp[1] temp[2] \\n\");\n",
    "    for (int step = 0; step < 3; step++) {\n",
    "        }\n",
    "        std::printf(\"%d %.2f    %.2f    %.2f\\n\", step, temp[0], temp[1], temp[2]);\n",
    "    }\n",
    "}"
   ]
  },
  {
   "cell_type": "code",
   "execution_count": 13,
   "metadata": {},
   "outputs": [],
   "source": [
    "!g++ Sources/cpu-cooling.cpp -o/tmp/a.out"
   ]
  },
  {
   "cell_type": "code",
   "execution_count": 14,
   "metadata": {},
   "outputs": [
    {
     "name": "stdout",
     "output_type": "stream",
     "text": [
      "step temp[0] temp[1] temp[2] \n",
      "0 31.00    22.00    35.00\n",
      "1 25.50    21.00    27.50\n",
      "2 22.75    20.50    23.75\n"
     ]
    }
   ],
   "source": [
    "!/tmp/a.out"
   ]
  },
  {
   "cell_type": "code",
   "execution_count": 15,
   "metadata": {},
   "outputs": [],
   "source": [
    "# We could also have compiled this with the Nvidia Cuda Compiler (NVCC)\n",
    "!nvcc -x cu Sources/cpu-cooling.cpp -o /tmp/a.out"
   ]
  },
  {
   "cell_type": "code",
   "execution_count": 16,
   "metadata": {},
   "outputs": [
    {
     "name": "stdout",
     "output_type": "stream",
     "text": [
      "step temp[0] temp[1] temp[2] \n",
      "0 31.00    22.00    35.00\n",
      "1 25.50    21.00    27.50\n",
      "2 22.75    20.50    23.75\n"
     ]
    }
   ],
   "source": [
    "!/tmp/a.out"
   ]
  },
  {
   "cell_type": "code",
   "execution_count": 8,
   "metadata": {},
   "outputs": [
    {
     "name": "stdout",
     "output_type": "stream",
     "text": [
      "Overwriting Sources/gpu-cooling.cpp\n"
     ]
    }
   ],
   "source": [
    "%%writefile Sources/gpu-cooling.cpp\n",
    "\n",
    "#include<algorithm>\n",
    "#include<cstdio>\n",
    "#include<vector>\n",
    "\n",
    "int main() {\n",
    "    float k = 0.5;\n",
    "    float ambient_temp = 20;\n",
    "    std::vector<float> temp {42,24,50};\n",
    "    auto transformation = [=] (float temp) {return temp + k * (ambient_temp - temp);};\n",
    "\n",
    "    std::printf(\"step temp[0] temp[1] temp[2]\\n\");\n",
    "    for (int step = 0; step<3; step++){\n",
    "        std::transform(temp.begin(), temp.end(), temp.begin(), transformation);\n",
    "        std::printf(\"%d     %.2f    %.2f    %.2f\\n\", step, temp[0], temp[1], temp[2]);\n",
    "    }\n",
    "\n",
    "}"
   ]
  },
  {
   "cell_type": "code",
   "execution_count": null,
   "metadata": {},
   "outputs": [
    {
     "name": "stdout",
     "output_type": "stream",
     "text": [
      "step temp[0] temp[1] temp[2]\n",
      "0     31.00    22.00    35.00\n",
      "1     25.50    21.00    27.50\n",
      "2     22.75    20.50    23.75\n"
     ]
    }
   ],
   "source": [
    "!/tmp/a.out"
   ]
  },
  {
   "cell_type": "code",
   "execution_count": 20,
   "metadata": {},
   "outputs": [],
   "source": [
    "# Note: Thrust is a CUDA Core Library which provides standard algorithms and containers that run on the GPU!\n",
    "#       So here we are using thrust to run functions on the GPU without using CUDA kernels explicitly!"
   ]
  },
  {
   "cell_type": "code",
   "execution_count": 2,
   "metadata": {},
   "outputs": [
    {
     "name": "stdout",
     "output_type": "stream",
     "text": [
      "Overwriting Sources/thrust-cooling.cpp\n"
     ]
    }
   ],
   "source": [
    "%%writefile Sources/thrust-cooling.cpp\n",
    "\n",
    "#include <thrust/execution_policy.h>\n",
    "#include <thrust/universal_vector.h>\n",
    "#include <thrust/transform.h>\n",
    "#include <cstdio>\n",
    "\n",
    "int main() {\n",
    "    float k = 0.5;\n",
    "    float ambient_temp = 20;\n",
    "    thrust::universal_vector<float> temp {42,24,50};\n",
    "    //This is a way of defining a function which can run on the GPU which is not explicitly a CUDA kernel\n",
    "    auto transformation = [=] __host__ __device__ (float temp) {return temp + k *(ambient_temp -temp);};\n",
    "\n",
    "    std::printf(\"step temp[0] temp[1] temp[2]\\n\");\n",
    "    for (int step = 0; step < 3; step++) {\n",
    "        //This means: call the transform function from the thrust library, make it run from the device, loop from temp.begin() to temp.end() and start \n",
    "        //writing to temp.begin() (i.e. overwriting) - the function that youre using is the transformation function (which has been __device__ enabled)\n",
    "        thrust::transform(thrust::device, temp.begin(), temp.end(), temp.begin(), transformation);\n",
    "        std::printf(\"%d     %.2f    %.2f    %.2f\\n\", step, temp[0], temp[1], temp[2]);\n",
    "    }\n",
    "}"
   ]
  },
  {
   "cell_type": "code",
   "execution_count": 17,
   "metadata": {},
   "outputs": [],
   "source": [
    "!nvcc --extended-lambda Sources/thrust-cooling.cpp -x cu -arch=native -o /tmp/a.out"
   ]
  },
  {
   "cell_type": "code",
   "execution_count": 19,
   "metadata": {},
   "outputs": [
    {
     "name": "stdout",
     "output_type": "stream",
     "text": [
      "step temp[0] temp[1] temp[2]\n",
      "0     31.00    22.00    35.00\n",
      "1     25.50    21.00    27.50\n",
      "2     22.75    20.50    23.75\n"
     ]
    }
   ],
   "source": [
    "!/tmp/a.out"
   ]
  },
  {
   "cell_type": "code",
   "execution_count": null,
   "metadata": {},
   "outputs": [],
   "source": []
  }
 ],
 "metadata": {
  "kernelspec": {
   "display_name": ".venv",
   "language": "python",
   "name": "python3"
  },
  "language_info": {
   "codemirror_mode": {
    "name": "ipython",
    "version": 3
   },
   "file_extension": ".py",
   "mimetype": "text/x-python",
   "name": "python",
   "nbconvert_exporter": "python",
   "pygments_lexer": "ipython3",
   "version": "3.13.2"
  }
 },
 "nbformat": 4,
 "nbformat_minor": 2
}
