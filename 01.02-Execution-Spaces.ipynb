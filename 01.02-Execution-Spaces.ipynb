{
 "cells": [
  {
   "cell_type": "code",
   "execution_count": 4,
   "metadata": {},
   "outputs": [
    {
     "name": "stdout",
     "output_type": "stream",
     "text": [
      "2025-03-17 11:36:43 URL:https://raw.githubusercontent.com/NVIDIA/accelerated-computing-hub/refs/heads/main/gpu-cpp-tutorial/notebooks/01.02-Execution-Spaces/Sources/ach.h [2893/2893] -> \"Sources/ach.h\" [1]\n"
     ]
    }
   ],
   "source": [
    "%mkdir -p Sources\n",
    "!wget https://raw.githubusercontent.com/NVIDIA/accelerated-computing-hub/refs/heads/main/gpu-cpp-tutorial/notebooks/01.02-Execution-Spaces/Sources/ach.h -nv -O Sources/ach.h"
   ]
  },
  {
   "cell_type": "code",
   "execution_count": null,
   "metadata": {},
   "outputs": [
    {
     "name": "stdout",
     "output_type": "stream",
     "text": [
      "Overwriting Sources/cpu-cooling.cpp\n"
     ]
    }
   ],
   "source": [
    "%%writefile Sources/cpu-cooling.cpp\n",
    "\n",
    "#include <cstdio>\n",
    "#include <vector>\n",
    "\n",
    "int main() {\n",
    "    float k = 0.5;\n",
    "    float ambient_temp = 20;\n",
    "    std::vector<float> temp{42,24,50};\n",
    "\n",
    "    std::printf(\"step temp[0] temp[1] temp[2] \\n\");\n",
    "    for (int step = 0; step < 3; step++) {\n",
    "        }\n",
    "        std::printf(\"%d %.2f    %.2f    %.2f\\n\", step, temp[0], temp[1], temp[2]);\n",
    "    }\n",
    "}"
   ]
  },
  {
   "cell_type": "code",
   "execution_count": 13,
   "metadata": {},
   "outputs": [],
   "source": [
    "!g++ Sources/cpu-cooling.cpp -o/tmp/a.out"
   ]
  },
  {
   "cell_type": "code",
   "execution_count": 14,
   "metadata": {},
   "outputs": [
    {
     "name": "stdout",
     "output_type": "stream",
     "text": [
      "step temp[0] temp[1] temp[2] \n",
      "0 31.00    22.00    35.00\n",
      "1 25.50    21.00    27.50\n",
      "2 22.75    20.50    23.75\n"
     ]
    }
   ],
   "source": [
    "!/tmp/a.out"
   ]
  },
  {
   "cell_type": "code",
   "execution_count": 15,
   "metadata": {},
   "outputs": [],
   "source": [
    "# We could also have compiled this with the Nvidia Cuda Compiler (NVCC)\n",
    "!nvcc -x cu Sources/cpu-cooling.cpp -o /tmp/a.out"
   ]
  },
  {
   "cell_type": "code",
   "execution_count": 16,
   "metadata": {},
   "outputs": [
    {
     "name": "stdout",
     "output_type": "stream",
     "text": [
      "step temp[0] temp[1] temp[2] \n",
      "0 31.00    22.00    35.00\n",
      "1 25.50    21.00    27.50\n",
      "2 22.75    20.50    23.75\n"
     ]
    }
   ],
   "source": [
    "!/tmp/a.out"
   ]
  },
  {
   "cell_type": "code",
   "execution_count": null,
   "metadata": {},
   "outputs": [],
   "source": [
    "%%writefil Sources/gpu-cooling.cpp\n",
    "\n",
    "#include<algorithm>\n",
    "#include<cstdio>\n",
    "#include<vector>\n",
    "\n",
    "int main() {\n",
    "    float k = 0.5;\n",
    "    float ambient_temp = 20;\n",
    "    std::vector<float> temp {42,24,50};\n",
    "    auto transformation = [=] (float temp) {return temp + k * (ambient_temp - temp);};\n",
    "\n",
    "}"
   ]
  }
 ],
 "metadata": {
  "kernelspec": {
   "display_name": ".venv",
   "language": "python",
   "name": "python3"
  },
  "language_info": {
   "codemirror_mode": {
    "name": "ipython",
    "version": 3
   },
   "file_extension": ".py",
   "mimetype": "text/x-python",
   "name": "python",
   "nbconvert_exporter": "python",
   "pygments_lexer": "ipython3",
   "version": "3.13.2"
  }
 },
 "nbformat": 4,
 "nbformat_minor": 2
}
